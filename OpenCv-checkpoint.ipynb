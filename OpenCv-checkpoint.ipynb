{
 "cells": [
  {
   "cell_type": "code",
   "execution_count": 13,
   "id": "c6557c95-1b75-4b59-b955-910566ef89e6",
   "metadata": {},
   "outputs": [],
   "source": [
    "# import cv2\n",
    "# img=cv2.imread(\"img1.jpg\")\n",
    "# cv2.imshow(\"Firstimage\",img)\n",
    "# cv2.waitKey(0)\n",
    "# cv2.destroyAllWindows()\n"
   ]
  },
  {
   "cell_type": "code",
   "execution_count": 14,
   "id": "3fdfdae4-0672-4ed6-ab75-bfa131707426",
   "metadata": {},
   "outputs": [],
   "source": [
    "# import cv2\n",
    "# img=cv2.imread(\"img1.jpg\")\n",
    "# re_img=cv2.resize(img,(1024,2000))\n",
    "# cv2.imshow(\"rishABH\",re_img)\n",
    "# cv2.waitKey(0)\n",
    "# cv2.destroyAllWindows()"
   ]
  },
  {
   "cell_type": "code",
   "execution_count": 15,
   "id": "011b90b2-45b6-46f5-a601-8d11075066c1",
   "metadata": {},
   "outputs": [
    {
     "data": {
      "text/plain": [
       "['.ipynb_checkpoints',\n",
       " 'day1.ipynb',\n",
       " 'img1.JPG',\n",
       " 'img2.JPG',\n",
       " 'img3.JPG',\n",
       " 'img4.JPG',\n",
       " 'img5.JPG',\n",
       " 'img6.JPG',\n",
       " 'img7.JPG',\n",
       " 'img8.JPG',\n",
       " 'OpenCv-checkpoint.ipynb']"
      ]
     },
     "execution_count": 15,
     "metadata": {},
     "output_type": "execute_result"
    }
   ],
   "source": [
    "# import os\n",
    "# list_name = os.listdir(r\"C:\\Users\\Rishabh Pandey\\Desktop\\ML\")\n",
    "# list_name\n"
   ]
  },
  {
   "cell_type": "code",
   "execution_count": 16,
   "id": "e35758a5-4063-4508-af0d-20da9e010a3c",
   "metadata": {},
   "outputs": [],
   "source": [
    "# import os\n",
    "# import cv2\n",
    "# list_name = os.listdir(r\"C:\\Users\\Rishabh Pandey\\Desktop\\ML\\New folder\")\n",
    "# for name in list_name :\n",
    "#     path = \"C:\\\\Users\\\\Rishabh Pandey\\\\Desktop\\\\ML\\\\New folder\"\n",
    "#     img_name = path + \"\\\\\" + name\n",
    "#     img=cv2.imread(img_name)\n",
    "#     img = cv2.resize(img,(500,600))\n",
    "#     cv2.imshow(\"rish\",img)\n",
    "#     cv2.waitKey(5000)\n",
    "# cv2.destroyAllWindows()\n",
    "\n",
    "#this we will use when all the files are only image files else it will give a error\n",
    "#if error : error: OpenCV(4.10.0) ... error: (-215:Assertion failed) !ssize.empty() in function 'cv::resize' means it is due to not being able to read a fileo\n",
    "#or the file type is none or undefined,then we will use the below code\n",
    " "
   ]
  },
  {
   "cell_type": "code",
   "execution_count": 13,
   "id": "273e1e5e-b024-4e4b-9ddc-830ff14a2a31",
   "metadata": {},
   "outputs": [
    {
     "name": "stdout",
     "output_type": "stream",
     "text": [
      "Could not read image: C:\\Users\\Rishabh Pandey\\Desktop\\ML\\.ipynb_checkpoints\n",
      "Could not read image: C:\\Users\\Rishabh Pandey\\Desktop\\ML\\day1.ipynb\n",
      "Could not read image: C:\\Users\\Rishabh Pandey\\Desktop\\ML\\OpenCv-checkpoint.ipynb\n"
     ]
    }
   ],
   "source": [
    "# import os\n",
    "# import cv2\n",
    "\n",
    "# list_name = os.listdir(r\"C:\\Users\\Rishabh Pandey\\Desktop\\ML\")\n",
    "# for name in list_name:\n",
    "#     path = r\"C:\\Users\\Rishabh Pandey\\Desktop\\ML\"\n",
    "#     img_name = path + \"\\\\\" + name\n",
    "#     img = cv2.imread(img_name)\n",
    "\n",
    "#     if img is not None:\n",
    "#         img = cv2.resize(img, (500, 600))\n",
    "#         cv2.imshow(\"rish\", img)\n",
    "#         cv2.waitKey(1000)\n",
    "#         cv2.destroyAllWindows()\n",
    "#     else:\n",
    "#         print(f\"Could not read image: {img_name}\")\n"
   ]
  },
  {
   "cell_type": "code",
   "execution_count": 17,
   "id": "1e1ca7e4-9cbf-4c3c-bc93-1ede07c3e70e",
   "metadata": {},
   "outputs": [],
   "source": [
    "# import os\n",
    "# import cv2\n",
    "# list_name = os.listdir(r\"C:\\Users\\Rishabh Pandey\\Desktop\\ML\\New folder\")\n",
    "# for name in list_name :\n",
    "#     path = \"C:\\\\Users\\\\Rishabh Pandey\\\\Desktop\\\\ML\\\\New folder\"\n",
    "#     img_name = path + \"\\\\\" + name\n",
    "#     img=cv2.imread(img_name)\n",
    "#     img = cv2.resize(img,(500,600))\n",
    "#     cv2.imshow(\"rish\",img)\n",
    "#     cv2.waitKey(1000)\n",
    "# cv2.destroyAllWindows()\n",
    "\n",
    "#this we will use when all the files are only image files else it will give a error\n",
    "#if error : error: OpenCV(4.10.0) ... error: (-215:Assertion failed) !ssize.empty() in function 'cv::resize' means it is due to not being able to read a fileo\n",
    "#or the file type is none or undefined,then we will use the below code\n",
    " "
   ]
  },
  {
   "cell_type": "code",
   "execution_count": 18,
   "id": "8d9b01d6-8cc2-4a4c-8814-dacf4f3c0707",
   "metadata": {},
   "outputs": [],
   "source": [
    "# import os\n",
    "# import cv2\n",
    "# list_name = os.listdir(r\"C:\\Users\\Rishabh Pandey\\Desktop\\ML\\New folder\")\n",
    "# for name in list_name :\n",
    "#     path = \"C:\\\\Users\\\\Rishabh Pandey\\\\Desktop\\\\ML\\\\New folder\"\n",
    "#     img_name = path + \"\\\\\" + name\n",
    "#     img=cv2.imread(img_name)\n",
    "#     img = cv2.resize(img,(500,600))\n",
    "#     cv2.imshow(\"rish\",img)\n",
    "#     cv2.waitKey(0)\n",
    "# cv2.destroyAllWindows()\n",
    "\n",
    "#this we will use when all the files are only image files else it will give a error\n",
    "#if error : error: OpenCV(4.10.0) ... error: (-215:Assertion failed) !ssize.empty() in function 'cv::resize' means it is due to not being able to read a fileo\n",
    "#or the file type is none or undefined,then we will use the below code\n",
    " "
   ]
  },
  {
   "cell_type": "code",
   "execution_count": null,
   "id": "b6316c28-c27d-4156-ae80-153deaa8d127",
   "metadata": {},
   "outputs": [],
   "source": []
  }
 ],
 "metadata": {
  "kernelspec": {
   "display_name": "Python 3.12",
   "language": "python",
   "name": "python312"
  },
  "language_info": {
   "codemirror_mode": {
    "name": "ipython",
    "version": 3
   },
   "file_extension": ".py",
   "mimetype": "text/x-python",
   "name": "python",
   "nbconvert_exporter": "python",
   "pygments_lexer": "ipython3",
   "version": "3.12.3"
  }
 },
 "nbformat": 4,
 "nbformat_minor": 5
}
