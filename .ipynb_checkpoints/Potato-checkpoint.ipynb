{
 "cells": [
  {
   "cell_type": "code",
   "execution_count": 1,
   "id": "5310235b-7b2f-45d5-bc3f-a34d4e82bb60",
   "metadata": {},
   "outputs": [
    {
     "name": "stdout",
     "output_type": "stream",
     "text": [
      "Slideshow finished. Press any key to close.\n"
     ]
    }
   ],
   "source": [
    "import cv2\n",
    "import os\n",
    "\n",
    "healthy_folder = r\"C:\\Users\\Rishabh Pandey\\Desktop\\ML\\New folder2\\healthy\"\n",
    "unhealthy_folder = r\"C:\\Users\\Rishabh Pandey\\Desktop\\ML\\New folder2\\unhealthy\"\n",
    "defected_folder = r\"C:\\Users\\Rishabh Pandey\\Desktop\\ML\\New folder2\\defectedcrops\"\n",
    "\n",
    "# Create defected folder \n",
    "if not os.path.exists(defected_folder):\n",
    "    os.makedirs(defected_folder)\n",
    "\n",
    "# Load unhealthy images as grayscale\n",
    "unhealthy_templates = []\n",
    "for fname in os.listdir(unhealthy_folder):\n",
    "    if fname.lower().endswith(('.jpg', '.jpeg')):\n",
    "        temp = cv2.imread(os.path.join(unhealthy_folder, fname), 0)\n",
    "        if temp is not None:\n",
    "            unhealthy_templates.append(temp)\n",
    "\n",
    "if not unhealthy_templates:\n",
    "    print(\"No unhealthy templates found.\")\n",
    "    exit()\n",
    "\n",
    "\n",
    "for img_name in os.listdir(healthy_folder):\n",
    "    if not img_name.lower().endswith(('.jpg', '.jpeg')):\n",
    "        continue\n",
    "\n",
    "    img_path = os.path.join(healthy_folder, img_name)\n",
    "    img = cv2.imread(img_path)\n",
    "\n",
    "    if img is None:\n",
    "        print(f\"Skipping invalid image: {img_name}\")\n",
    "        continue\n",
    "\n",
    "    gray_img = cv2.cvtColor(img, cv2.COLOR_BGR2GRAY)\n",
    "    detected = False\n",
    "\n",
    "    for template in unhealthy_templates:\n",
    "        h, w = template.shape\n",
    "        result = cv2.matchTemplate(gray_img, template, cv2.TM_CCOEFF_NORMED)\n",
    "        _, max_val, _, max_loc = cv2.minMaxLoc(result)\n",
    "\n",
    "        if max_val > 0.6:  # adjust threshold if needed\n",
    "            top_left = max_loc\n",
    "            bottom_right = (top_left[0] + w, top_left[1] + h)\n",
    "            cv2.rectangle(img, top_left, bottom_right, (0, 0, 255), 2)\n",
    "            cv2.putText(img, \"Diseased Detected\", (20, 40),\n",
    "                        cv2.FONT_HERSHEY_SIMPLEX, 0.8, (0, 0, 255), 2)\n",
    "            detected = True\n",
    "            break\n",
    "\n",
    "    if not detected:\n",
    "        cv2.putText(img, \"Healthy\", (20, 40),\n",
    "                    cv2.FONT_HERSHEY_SIMPLEX, 0.8, (0, 255, 0), 2)\n",
    "    else:\n",
    "        # Save detected image to defectedcrops folder\n",
    "        save_path = os.path.join(defected_folder, img_name)\n",
    "        cv2.imwrite(save_path, img)\n",
    "\n",
    "    \n",
    "    cv2.imshow(\"Potato\", img)\n",
    "    key = cv2.waitKey(50)  # Show each image for 50ms\n",
    "    if key & 0xFF == ord('q'):\n",
    "        break\n",
    "\n",
    "print(\"Slideshow finished. Press any key to close.\")\n",
    "cv2.waitKey(0)\n",
    "cv2.destroyAllWindows()\n"
   ]
  },
  {
   "cell_type": "code",
   "execution_count": null,
   "id": "12c51a56-4df2-4925-9a64-9ebf10bb2bab",
   "metadata": {},
   "outputs": [],
   "source": []
  }
 ],
 "metadata": {
  "kernelspec": {
   "display_name": "Python 3 (ipykernel)",
   "language": "python",
   "name": "python3"
  },
  "language_info": {
   "codemirror_mode": {
    "name": "ipython",
    "version": 3
   },
   "file_extension": ".py",
   "mimetype": "text/x-python",
   "name": "python",
   "nbconvert_exporter": "python",
   "pygments_lexer": "ipython3",
   "version": "3.12.7"
  }
 },
 "nbformat": 4,
 "nbformat_minor": 5
}
