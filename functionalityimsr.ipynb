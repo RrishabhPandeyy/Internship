{
 "cells": [
  {
   "cell_type": "code",
   "execution_count": null,
   "id": "87011010-c770-48a4-9299-14b00ee7b2b2",
   "metadata": {},
   "outputs": [],
   "source": []
  },
  {
   "cell_type": "code",
   "execution_count": 1,
   "id": "2f47a345-57bc-461a-ad49-c5d8a75e7423",
   "metadata": {},
   "outputs": [
    {
     "name": "stdout",
     "output_type": "stream",
     "text": [
      "None\n"
     ]
    }
   ],
   "source": [
    "import cv2\n",
    "img = cv2.imread(\"img1.JPG\")\n",
    "print(img)\n",
    "#this will not open because the pictures are not there directly in the directory"
   ]
  },
  {
   "cell_type": "code",
   "execution_count": 2,
   "id": "230ecced-c9a4-4ceb-a191-a59e27de1c2c",
   "metadata": {
    "scrolled": true
   },
   "outputs": [
    {
     "name": "stdout",
     "output_type": "stream",
     "text": [
      "C:\\Users\\Rishabh Pandey\\Desktop\\ML\n"
     ]
    }
   ],
   "source": [
    "import os\n",
    "print(os.getcwd())  # Shows where Python is looking for the file\n"
   ]
  },
  {
   "cell_type": "code",
   "execution_count": 3,
   "id": "b2c39910-c0bb-4fbb-812c-c0ef154e5e38",
   "metadata": {
    "scrolled": true
   },
   "outputs": [
    {
     "name": "stdout",
     "output_type": "stream",
     "text": [
      "['.ipynb_checkpoints', 'functionalityimsr.ipynb', 'New folder', 'OpenCv-checkpoint.ipynb']\n"
     ]
    }
   ],
   "source": [
    "# import os\n",
    "# print(os.listdir(r\"C:\\Users\\Rishabh Pandey\\Desktop\\ML\"))\n",
    "# #this will show what are the folders or files in our location where python is searching for the file\n"
   ]
  },
  {
   "cell_type": "code",
   "execution_count": 9,
   "id": "8dc8bbda-2927-4c8f-b4ff-bd8739ad2448",
   "metadata": {
    "scrolled": true
   },
   "outputs": [
    {
     "name": "stdout",
     "output_type": "stream",
     "text": [
      "[[[127 123 129]\n",
      "  [167 163 169]\n",
      "  [109 105 111]\n",
      "  ...\n",
      "  [140 134 139]\n",
      "  [160 154 159]\n",
      "  [160 154 159]]\n",
      "\n",
      " [[138 134 140]\n",
      "  [135 131 137]\n",
      "  [127 123 129]\n",
      "  ...\n",
      "  [149 143 148]\n",
      "  [136 130 135]\n",
      "  [141 135 140]]\n",
      "\n",
      " [[118 114 120]\n",
      "  [140 136 142]\n",
      "  [159 155 161]\n",
      "  ...\n",
      "  [172 166 171]\n",
      "  [155 149 154]\n",
      "  [153 147 152]]\n",
      "\n",
      " ...\n",
      "\n",
      " [[ 67  62  63]\n",
      "  [ 81  76  77]\n",
      "  [ 75  70  71]\n",
      "  ...\n",
      "  [ 64  60  59]\n",
      "  [ 55  51  50]\n",
      "  [ 74  70  69]]\n",
      "\n",
      " [[ 65  60  61]\n",
      "  [ 73  68  69]\n",
      "  [ 63  58  59]\n",
      "  ...\n",
      "  [ 94  90  89]\n",
      "  [ 86  82  81]\n",
      "  [ 70  66  65]]\n",
      "\n",
      " [[ 72  67  68]\n",
      "  [112 107 108]\n",
      "  [ 64  59  60]\n",
      "  ...\n",
      "  [ 74  70  69]\n",
      "  [ 81  77  76]\n",
      "  [ 54  50  49]]]\n",
      "(256, 256, 3)\n"
     ]
    }
   ],
   "source": [
    "\n",
    "# img = cv2.imread(\"New folder//img1.JPG\") #BGR (0-255)\n",
    "# print(img)\n",
    "# print(img.shape)\n",
    "# img = cv2.resize(img,(500,500))\n",
    "# cv2.imshow(\"final\",img)\n",
    "# cv2.waitKey(0)\n",
    "# cv2.destroyAllWindows()\n",
    "# #this is how we fix it by specifying the folder"
   ]
  },
  {
   "cell_type": "code",
   "execution_count": 12,
   "id": "3a320070-ba27-4d2c-b7f7-97d309e2623f",
   "metadata": {},
   "outputs": [
    {
     "name": "stdout",
     "output_type": "stream",
     "text": [
      "[[125 165 107 ... 136 156 156]\n",
      " [136 133 125 ... 145 132 137]\n",
      " [116 138 157 ... 168 151 149]\n",
      " ...\n",
      " [ 63  77  71 ...  60  51  70]\n",
      " [ 61  69  59 ...  90  82  66]\n",
      " [ 68 108  60 ...  70  77  50]]\n",
      "(256, 256)\n"
     ]
    }
   ],
   "source": [
    "\n",
    "# img = cv2.imread(\"New folder//img1.JPG\",1) #BGR (0-255)\n",
    "# print(img)\n",
    "# print(img.shape)\n",
    "# img = cv2.resize(img,(500,500))\n",
    "# cv2.imshow(\"final\",img)\n",
    "# cv2.waitKey(0)\n",
    "# cv2.destroyAllWindows()\n",
    "# #for coloured"
   ]
  },
  {
   "cell_type": "code",
   "execution_count": 17,
   "id": "0b97fb3b-456f-486a-a4e9-4b008a14dec1",
   "metadata": {},
   "outputs": [
    {
     "name": "stdout",
     "output_type": "stream",
     "text": [
      "(256, 256)\n"
     ]
    }
   ],
   "source": [
    "\n",
    "# img = cv2.imread(\"New folder//img1.JPG\",0) #BGR (0-255)\n",
    "# # print(img)\n",
    "# print(img.shape)\n",
    "# img = cv2.resize(img,(500,500))\n",
    "# cv2.imshow(\"final\",img)\n",
    "# cv2.waitKey(0)\n",
    "# cv2.destroyAllWindows()\n",
    "# # #for greyscale"
   ]
  },
  {
   "cell_type": "code",
   "execution_count": 16,
   "id": "b01191aa-1850-4de8-9829-94efa70e607a",
   "metadata": {},
   "outputs": [
    {
     "name": "stdout",
     "output_type": "stream",
     "text": [
      "(256, 256, 3)\n"
     ]
    }
   ],
   "source": [
    "\n",
    "# img = cv2.imread(\"New folder//img1.JPG\",-1) #BGR (0-255)\n",
    "# # print(img)\n",
    "# print(img.shape)\n",
    "# img = cv2.resize(img,(500,500))\n",
    "# cv2.imshow(\"final\",img)\n",
    "# cv2.waitKey(0)\n",
    "# cv2.destroyAllWindows()\n",
    "# #for reducing intensity"
   ]
  },
  {
   "cell_type": "code",
   "execution_count": 28,
   "id": "f888e2f8-a0aa-425b-85f3-479ce67260d3",
   "metadata": {},
   "outputs": [],
   "source": [
    "# import cv2\n",
    "# img = cv2.imread(\"New folder//img1.JPG\",1) #BGR (0-255)\n",
    "# img = cv2.resize(img,(700,700))\n",
    "# txt = cv2.putText(img=img,\n",
    "# text = \"rishabh\",\n",
    "# org= (100,100),\n",
    "# fontFace = cv2.FONT_HERSHEY_DUPLEX,\n",
    "# fontScale= 3,\n",
    "# color = (0,0,200),\n",
    "# thickness = 3,\n",
    "# lineType= cv2.LINE_8,\n",
    "# bottomLeftOrigin = False)\n",
    "\n",
    "\n",
    "# cv2.imshow(\"text\",img)\n",
    "# cv2.waitKey(0)\n",
    "# cv2.destroyAllWindows()\n",
    "\n",
    "# #for text on the image"
   ]
  },
  {
   "cell_type": "code",
   "execution_count": 32,
   "id": "21a8b968-cabb-4c69-9575-2b8bb851d894",
   "metadata": {},
   "outputs": [],
   "source": [
    "# import cv2\n",
    "# img = cv2.imread(\"New folder//img1.JPG\",1) #BGR (0-255)\n",
    "# img = cv2.resize(img,(700,700))\n",
    "# txt = cv2.putText(img=img,\n",
    "# text = \"rishabh\",\n",
    "# org= (100,100),\n",
    "# fontFace = cv2.FONT_HERSHEY_DUPLEX,\n",
    "# fontScale= 3,\n",
    "# color = (0,0,200),\n",
    "# thickness = 3,\n",
    "# lineType= cv2.LINE_8,\n",
    "# bottomLeftOrigin = False)\n",
    "\n",
    "\n",
    "# txt = cv2.putText(img = txt,\n",
    "# text = \"rishabh\",\n",
    "# org= (100,100),\n",
    "# fontFace = cv2.FONT_HERSHEY_DUPLEX,\n",
    "# fontScale= 3,\n",
    "# color = (200,0,200),\n",
    "# thickness = 3,\n",
    "# lineType= cv2.LINE_8,\n",
    "# bottomLeftOrigin = True)\n",
    "\n",
    "\n",
    "# cv2.imshow(\"text\",img)\n",
    "# cv2.waitKey(0)\n",
    "# cv2.destroyAllWindows()\n",
    "\n",
    "# #for text on the image\n",
    "\n",
    "# cv2.imshow(\"text\",img)\n",
    "# cv2.waitKey(0)\n",
    "# cv2.destroyAllWindows()\n",
    "\n",
    "# #for text on the image"
   ]
  },
  {
   "cell_type": "code",
   "execution_count": null,
   "id": "b28cad84-c263-4bd1-83cb-e59d03ab9f3e",
   "metadata": {},
   "outputs": [],
   "source": [
    "# import cv2\n",
    "# old_img= cv2.imread(\"New folder//img1.jpg\")\n",
    "# old_img= cv2.resize(old_img,(600,600))\n",
    "# new_img = cv2.line(img = old_img,pt1=(100,150),pt2=(360,150),color=(0,255,240),thickness = 4,lineType=4)\n",
    "# cv2.imshow(\"line\",old_img)\n",
    "# cv2.waitKey(0)\n",
    "# cv2.destroyAllWindows()\n",
    "# # here point one and two on same line along same edge"
   ]
  },
  {
   "cell_type": "code",
   "execution_count": 4,
   "id": "6e17b209-9a1d-4787-b778-f7d3e3d0d2db",
   "metadata": {},
   "outputs": [],
   "source": [
    "# import cv2\n",
    "# old_img= cv2.imread(\"New folder//img1.jpg\")\n",
    "# old_img= cv2.resize(old_img,(600,600))\n",
    "# txt = cv2.putText(img=old_img,\n",
    "# text = \"rishabh\",\n",
    "# org= (100,150),\n",
    "# fontFace = cv2.FONT_HERSHEY_DUPLEX,\n",
    "# fontScale= 1,\n",
    "# color = (0,0,200),\n",
    "# thickness = 3,\n",
    "# lineType= cv2.LINE_8,\n",
    "# bottomLeftOrigin = False)\n",
    "\n",
    "# new_img = cv2.rectangle(img = txt,pt1=(100,150),pt2=(500,500),color=(0,255,240),thickness = 4,lineType=4)\n",
    "# cv2.imshow(\"line\",old_img)\n",
    "# cv2.waitKey(0)\n",
    "# cv2.destroyAllWindows()"
   ]
  },
  {
   "cell_type": "code",
   "execution_count": 9,
   "id": "d2dde1ca-52cc-436e-b274-63226da1747e",
   "metadata": {},
   "outputs": [],
   "source": [
    "#how to MAKE ELLIPSE OR CIRCLE ON THE IMAGE\n",
    "import cv2\n",
    "old_img=cv2.imread(\"New folder\\\\img4.jpg\")\n",
    "old_img=cv2.resize(old_img,(600,600))\n",
    "new_img = cv2.circle(img=old_img,center=(200,200),radius=100,color=(0,250,90),thickness=4,lineType=-1)\n",
    "cv2.imshow(\"rish\",old_img)\n",
    "cv2.waitKey(0)\n",
    "cv2.destroyAllWindows()"
   ]
  },
  {
   "cell_type": "code",
   "execution_count": 10,
   "id": "bcef8951-2e29-44e3-8407-4a03923b77b1",
   "metadata": {},
   "outputs": [],
   "source": [
    "#now to hide the image in circle\n",
    "#how to MAKE ELLIPSE OR CIRCLE ON THE IMAGE\n",
    "import cv2\n",
    "old_img=cv2.imread(\"New folder\\\\img4.jpg\")\n",
    "old_img=cv2.resize(old_img,(600,600))\n",
    "new_img = cv2.circle(img=old_img,center=(200,200),radius=100,color=(0,250,90),thickness=-1,lineType=-1)\n",
    "cv2.imshow(\"rish\",old_img)\n",
    "cv2.waitKey(0)\n",
    "cv2.destroyAllWindows()"
   ]
  },
  {
   "cell_type": "code",
   "execution_count": 30,
   "id": "00d98a2a-d117-40d4-8529-16ab76d6b8f4",
   "metadata": {},
   "outputs": [],
   "source": [
    "#how to MAKE ELLIPSE OR CIRCLE ON THE IMAGE\n",
    "import cv2\n",
    "old_img=cv2.imread(\"New folder\\\\img4.jpg\")\n",
    "old_img=cv2.resize(old_img,(600,600))\n",
    "\n",
    "txt = cv2.putText(img=old_img,\n",
    "text = \"rishabh\",\n",
    "org= (400,385),\n",
    "fontFace = cv2.FONT_HERSHEY_DUPLEX,\n",
    "fontScale= 1,\n",
    "color = (0,0,200),\n",
    "thickness = 3,\n",
    "lineType= cv2.LINE_8,\n",
    "bottomLeftOrigin = False)\n",
    "new_img = cv2.ellipse(img=old_img,center=(300,300),axes=(200,250),angle=30,startAngle=0,endAngle=350,color=(0,250,90),thickness=4,lineType=-1)\n",
    "cv2.imshow(\"rish\",old_img)\n",
    "cv2.waitKey(0)\n",
    "cv2.destroyAllWindows()"
   ]
  },
  {
   "cell_type": "code",
   "execution_count": 37,
   "id": "8947b396-a227-42c8-a299-80eb2df75d30",
   "metadata": {},
   "outputs": [],
   "source": [
    "# #To draw polygon on images\n",
    "# import cv2\n",
    "# import numpy as np\n",
    "# old_img=cv2.imread(\"New folder\\\\img4.jpg\")\n",
    "# old_img=cv2.resize(old_img,(600,600))\n",
    "\n",
    "# new_img = cv2.polylines(img=old_img,\n",
    "#                        pts=[np.array([[100,400],[150,300],[200,350],[250,500],[100,500]])],isClosed= True,color=(0,250,90),thickness=4,lineType=16)\n",
    "# cv2.imshow(\"rish\",new_img)\n",
    "# cv2.waitKey(0)\n",
    "# cv2.destroyAllWindows()\n"
   ]
  },
  {
   "cell_type": "code",
   "execution_count": 63,
   "id": "07343707-2741-4fdd-adf1-3bfda641f22b",
   "metadata": {},
   "outputs": [],
   "source": [
    "#Arithmetic operations on images, i.e. merging images\n",
    "#Both resize images should be of the same size for the overlapping to work\n",
    "import cv2\n",
    "import numpy as np\n",
    "img1=cv2.imread(\"New folder\\\\img1.jpg\")\n",
    "img2=cv2.imread(\"New folder\\\\img2.jpg\")\n",
    "img1=cv2.resize(img1,(600,600))\n",
    "img2=cv2.resize(img2,(600,600))\n",
    "\n",
    "new_img= cv2.addWeighted(img1,1,img2,0.5,1)\n",
    "cv2.imshow(\"rish\",new_img)\n",
    "cv2.waitKey(0)\n",
    "cv2.destroyAllWindows()\n",
    "\n"
   ]
  },
  {
   "cell_type": "code",
   "execution_count": null,
   "id": "5bd3d855-f9b1-4070-8a60-9845c00a38f1",
   "metadata": {},
   "outputs": [],
   "source": []
  }
 ],
 "metadata": {
  "kernelspec": {
   "display_name": "Python 3 (ipykernel)",
   "language": "python",
   "name": "python3"
  },
  "language_info": {
   "codemirror_mode": {
    "name": "ipython",
    "version": 3
   },
   "file_extension": ".py",
   "mimetype": "text/x-python",
   "name": "python",
   "nbconvert_exporter": "python",
   "pygments_lexer": "ipython3",
   "version": "3.12.3"
  }
 },
 "nbformat": 4,
 "nbformat_minor": 5
}
